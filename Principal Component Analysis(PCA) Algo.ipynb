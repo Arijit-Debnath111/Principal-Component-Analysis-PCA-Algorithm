{
 "cells": [
  {
   "cell_type": "code",
   "execution_count": 4,
   "id": "dd3216fb",
   "metadata": {},
   "outputs": [],
   "source": [
    "from sklearn.datasets import load_digits\n",
    "import pandas as pd\n",
    "import numpy as np"
   ]
  },
  {
   "cell_type": "code",
   "execution_count": 5,
   "id": "4210a81b",
   "metadata": {},
   "outputs": [],
   "source": [
    "digits=load_digits()"
   ]
  },
  {
   "cell_type": "code",
   "execution_count": 6,
   "id": "bfc5b4bc",
   "metadata": {},
   "outputs": [
    {
     "data": {
      "text/plain": [
       "(1797, 64)"
      ]
     },
     "execution_count": 6,
     "metadata": {},
     "output_type": "execute_result"
    }
   ],
   "source": [
    "digits.data.shape"
   ]
  },
  {
   "cell_type": "code",
   "execution_count": 7,
   "id": "c39546ef",
   "metadata": {},
   "outputs": [
    {
     "data": {
      "text/plain": [
       "(1797,)"
      ]
     },
     "execution_count": 7,
     "metadata": {},
     "output_type": "execute_result"
    }
   ],
   "source": [
    "digits.target.shape"
   ]
  },
  {
   "cell_type": "code",
   "execution_count": 8,
   "id": "28102d56",
   "metadata": {},
   "outputs": [
    {
     "data": {
      "text/plain": [
       "array([[ 0.,  0.,  5., 13.,  9.,  1.,  0.,  0.],\n",
       "       [ 0.,  0., 13., 15., 10., 15.,  5.,  0.],\n",
       "       [ 0.,  3., 15.,  2.,  0., 11.,  8.,  0.],\n",
       "       [ 0.,  4., 12.,  0.,  0.,  8.,  8.,  0.],\n",
       "       [ 0.,  5.,  8.,  0.,  0.,  9.,  8.,  0.],\n",
       "       [ 0.,  4., 11.,  0.,  1., 12.,  7.,  0.],\n",
       "       [ 0.,  2., 14.,  5., 10., 12.,  0.,  0.],\n",
       "       [ 0.,  0.,  6., 13., 10.,  0.,  0.,  0.]])"
      ]
     },
     "execution_count": 8,
     "metadata": {},
     "output_type": "execute_result"
    }
   ],
   "source": [
    "digits.images[0]"
   ]
  },
  {
   "cell_type": "code",
   "execution_count": 9,
   "id": "5f31712b",
   "metadata": {},
   "outputs": [],
   "source": [
    "import matplotlib.pyplot as plt"
   ]
  },
  {
   "cell_type": "code",
   "execution_count": 10,
   "id": "0c222c5e",
   "metadata": {},
   "outputs": [
    {
     "data": {
      "text/plain": [
       "<matplotlib.image.AxesImage at 0x18e12953730>"
      ]
     },
     "execution_count": 10,
     "metadata": {},
     "output_type": "execute_result"
    },
    {
     "data": {
      "image/png": "[encoded data removed]",
      "text/plain": [
       "<Figure size 432x288 with 1 Axes>"
      ]
     },
     "metadata": {
      "needs_background": "light"
     },
     "output_type": "display_data"
    }
   ],
   "source": [
    "plt.imshow(digits.images[0])"
   ]
  },
  {
   "cell_type": "code",
   "execution_count": 11,
   "id": "34de4cb5",
   "metadata": {},
   "outputs": [
    {
     "data": {
      "text/plain": [
       "<matplotlib.image.AxesImage at 0x18e11777400>"
      ]
     },
     "execution_count": 11,
     "metadata": {},
     "output_type": "execute_result"
    },
    {
     "data": {
      "image/png": "[encoded data removed]",
      "text/plain": [
       "<Figure size 432x288 with 1 Axes>"
      ]
     },
     "metadata": {
      "needs_background": "light"
     },
     "output_type": "display_data"
    }
   ],
   "source": [
    "plt.imshow(digits.images[8])"
   ]
  },
  {
   "cell_type": "code",
   "execution_count": 12,
   "id": "b79a3446",
   "metadata": {},
   "outputs": [
    {
     "data": {
      "text/plain": [
       "<matplotlib.image.AxesImage at 0x18e12867d60>"
      ]
     },
     "execution_count": 12,
     "metadata": {},
     "output_type": "execute_result"
    },
    {
     "data": {
      "image/png": "[encoded data removed]",
      "text/plain": [
       "<Figure size 432x288 with 1 Axes>"
      ]
     },
     "metadata": {
      "needs_background": "light"
     },
     "output_type": "display_data"
    }
   ],
   "source": [
    "plt.imshow(digits.images[21])"
   ]
  },
  {
   "cell_type": "code",
   "execution_count": 13,
   "id": "edacccfe",
   "metadata": {},
   "outputs": [
    {
     "data": {
      "text/plain": [
       "<matplotlib.image.AxesImage at 0x18e12906e20>"
      ]
     },
     "execution_count": 13,
     "metadata": {},
     "output_type": "execute_result"
    },
    {
     "data": {
      "image/png": "[encoded data removed]",
      "text/plain": [
       "<Figure size 432x288 with 1 Axes>"
      ]
     },
     "metadata": {
      "needs_background": "light"
     },
     "output_type": "display_data"
    }
   ],
   "source": [
    "plt.imshow(digits.images[1721])"
   ]
  },
  {
   "cell_type": "code",
   "execution_count": 14,
   "id": "48fa19ec",
   "metadata": {},
   "outputs": [
    {
     "data": {
      "text/plain": [
       "2"
      ]
     },
     "execution_count": 14,
     "metadata": {},
     "output_type": "execute_result"
    }
   ],
   "source": [
    "digits.target[1721]"
   ]
  },
  {
   "cell_type": "code",
   "execution_count": 15,
   "id": "80c3414c",
   "metadata": {},
   "outputs": [
    {
     "data": {
      "text/plain": [
       "<matplotlib.image.AxesImage at 0x18e11695a00>"
      ]
     },
     "execution_count": 15,
     "metadata": {},
     "output_type": "execute_result"
    },
    {
     "data": {
      "image/png": "[encoded data removed]",
      "text/plain": [
       "<Figure size 432x288 with 1 Axes>"
      ]
     },
     "metadata": {
      "needs_background": "light"
     },
     "output_type": "display_data"
    }
   ],
   "source": [
    "plt.imshow(digits.images[0],cmap=plt.cm.gray_r)"
   ]
  },
  {
   "cell_type": "code",
   "execution_count": 16,
   "id": "efb67c0a",
   "metadata": {},
   "outputs": [],
   "source": [
    "data1=pd.DataFrame(digits.data)"
   ]
  },
  {
   "cell_type": "code",
   "execution_count": 17,
   "id": "e8925289",
   "metadata": {},
   "outputs": [
    {
     "data": {
      "text/plain": [
       "(1797, 64)"
      ]
     },
     "execution_count": 17,
     "metadata": {},
     "output_type": "execute_result"
    }
   ],
   "source": [
    "data1.shape"
   ]
  },
  {
   "cell_type": "code",
   "execution_count": 18,
   "id": "89283222",
   "metadata": {},
   "outputs": [
    {
     "data": {
      "text/plain": [
       "numpy.ndarray"
      ]
     },
     "execution_count": 18,
     "metadata": {},
     "output_type": "execute_result"
    }
   ],
   "source": [
    "type(digits.data)"
   ]
  },
  {
   "cell_type": "code",
   "execution_count": 19,
   "id": "2e91e1ca",
   "metadata": {},
   "outputs": [],
   "source": [
    "x=digits.data\n",
    "y=digits.target"
   ]
  },
  {
   "cell_type": "code",
   "execution_count": 20,
   "id": "acea479e",
   "metadata": {},
   "outputs": [],
   "source": [
    "from sklearn.preprocessing import StandardScaler"
   ]
  },
  {
   "cell_type": "code",
   "execution_count": 21,
   "id": "c4832dac",
   "metadata": {},
   "outputs": [],
   "source": [
    "X_std=StandardScaler().fit_transform(x)"
   ]
  },
  {
   "cell_type": "code",
   "execution_count": 22,
   "id": "9589773b",
   "metadata": {},
   "outputs": [],
   "source": [
    "cov_mat=np.cov(X_std)"
   ]
  },
  {
   "cell_type": "code",
   "execution_count": 23,
   "id": "86256b47",
   "metadata": {},
   "outputs": [
    {
     "data": {
      "text/plain": [
       "array([[ 0.5880313 , -0.3517508 , -0.16077981, ..., -0.11934932,\n",
       "         0.17923085, -0.03301393],\n",
       "       [-0.3517508 ,  0.62245732,  0.19941243, ...,  0.19328904,\n",
       "        -0.02909261, -0.11681313],\n",
       "       [-0.16077981,  0.19941243,  0.84470184, ...,  0.21437087,\n",
       "        -0.10531818,  0.15647291],\n",
       "       ...,\n",
       "       [-0.11934932,  0.19328904,  0.21437087, ...,  0.53365888,\n",
       "         0.03649137,  0.21765015],\n",
       "       [ 0.17923085, -0.02909261, -0.10531818, ...,  0.03649137,\n",
       "         0.50910808,  0.02455871],\n",
       "       [-0.03301393, -0.11681313,  0.15647291, ...,  0.21765015,\n",
       "         0.02455871,  0.71882383]])"
      ]
     },
     "execution_count": 23,
     "metadata": {},
     "output_type": "execute_result"
    }
   ],
   "source": [
    "cov_mat"
   ]
  },
  {
   "cell_type": "code",
   "execution_count": 24,
   "id": "d56d759e",
   "metadata": {},
   "outputs": [],
   "source": [
    "eig_vals,eig_vec=np.linalg.eig(cov_mat)"
   ]
  },
  {
   "cell_type": "code",
   "execution_count": 25,
   "id": "d6478da5",
   "metadata": {},
   "outputs": [
    {
     "data": {
      "text/plain": [
       "array([ 2.09382478e+02+0.00000000e+00j,  1.66350656e+02+0.00000000e+00j,\n",
       "        1.46693510e+02+0.00000000e+00j, ...,\n",
       "        4.84742123e-17-4.99408214e-17j,  3.10871432e-17+0.00000000e+00j,\n",
       "       -1.71766812e-17+0.00000000e+00j])"
      ]
     },
     "execution_count": 25,
     "metadata": {},
     "output_type": "execute_result"
    }
   ],
   "source": [
    "eig_vals"
   ]
  },
  {
   "cell_type": "code",
   "execution_count": 26,
   "id": "1a99f4ea",
   "metadata": {},
   "outputs": [
    {
     "data": {
      "text/plain": [
       "array([[-0.01668147+0.j        , -0.00922268+0.j        ,\n",
       "         0.04083253+0.j        , ..., -0.00526986-0.00791584j,\n",
       "        -0.01441294+0.j        ,  0.01544082+0.j        ],\n",
       "       [-0.00509626+0.j        ,  0.00889238+0.j        ,\n",
       "        -0.04035581+0.j        , ...,  0.00044751+0.00066929j,\n",
       "         0.00040742+0.j        , -0.00132267+0.j        ],\n",
       "       [-0.01133562+0.j        , -0.0031511 +0.j        ,\n",
       "        -0.03140352+0.j        , ..., -0.00032174+0.00056142j,\n",
       "         0.00018728+0.j        ,  0.00033782+0.j        ],\n",
       "       ...,\n",
       "       [-0.00891683+0.j        , -0.00144866+0.j        ,\n",
       "        -0.02596068+0.j        , ..., -0.01161926-0.02208293j,\n",
       "        -0.01732001+0.j        , -0.00415504+0.j        ],\n",
       "       [-0.00938573+0.j        , -0.00365442+0.j        ,\n",
       "         0.02550844+0.j        , ..., -0.01969444-0.01431508j,\n",
       "        -0.02611125+0.j        ,  0.01497861+0.j        ],\n",
       "       [ 0.01089722+0.j        , -0.02163646+0.j        ,\n",
       "        -0.00376114+0.j        , ..., -0.01926847+0.01446992j,\n",
       "        -0.02078254+0.j        , -0.00576807+0.j        ]])"
      ]
     },
     "execution_count": 26,
     "metadata": {},
     "output_type": "execute_result"
    }
   ],
   "source": [
    "eig_vec"
   ]
  },
  {
   "cell_type": "code",
   "execution_count": 27,
   "id": "5f5244cf",
   "metadata": {},
   "outputs": [],
   "source": [
    "tot=sum(eig_vals)"
   ]
  },
  {
   "cell_type": "code",
   "execution_count": 28,
   "id": "f4d43daa",
   "metadata": {},
   "outputs": [
    {
     "data": {
      "text/plain": [
       "(1704.4356645051612+0j)"
      ]
     },
     "execution_count": 28,
     "metadata": {},
     "output_type": "execute_result"
    }
   ],
   "source": [
    "tot"
   ]
  },
  {
   "cell_type": "code",
   "execution_count": 29,
   "id": "2bd5d0ff",
   "metadata": {},
   "outputs": [],
   "source": [
    "var_exp=[(i/tot)*100 for i in sorted(eig_vals,reverse=True)]"
   ]
  },
  {
   "cell_type": "code",
   "execution_count": 30,
   "id": "5a08ee60",
   "metadata": {},
   "outputs": [],
   "source": [
    "var_exp=np.abs(var_exp)"
   ]
  },
  {
   "cell_type": "code",
   "execution_count": 31,
   "id": "abd596db",
   "metadata": {},
   "outputs": [
    {
     "data": {
      "text/plain": [
       "array([1.22845633e+01, 9.75986712e+00, 8.60657361e+00, ...,\n",
       "       4.40011536e-16, 4.90191324e-16, 5.46961835e-16])"
      ]
     },
     "execution_count": 31,
     "metadata": {},
     "output_type": "execute_result"
    }
   ],
   "source": [
    "var_exp"
   ]
  },
  {
   "cell_type": "code",
   "execution_count": 32,
   "id": "3d9fcf48",
   "metadata": {},
   "outputs": [],
   "source": [
    "c_var_exp=np.cumsum(var_exp)\n",
    "c_var_exp=np.abs(c_var_exp)"
   ]
  },
  {
   "cell_type": "code",
   "execution_count": 33,
   "id": "bbfeff87",
   "metadata": {},
   "outputs": [
    {
     "data": {
      "text/plain": [
       "50.249657315006225"
      ]
     },
     "execution_count": 33,
     "metadata": {},
     "output_type": "execute_result"
    }
   ],
   "source": [
    "c_var_exp[6]"
   ]
  },
  {
   "cell_type": "code",
   "execution_count": 36,
   "id": "f0fe3368",
   "metadata": {},
   "outputs": [
    {
     "data": {
      "text/plain": [
       "[<matplotlib.lines.Line2D at 0x18e1b4ec970>]"
      ]
     },
     "execution_count": 36,
     "metadata": {},
     "output_type": "execute_result"
    },
    {
     "data": {
      "image/png": "[encoded data removed]",
      "text/plain": [
       "<Figure size 720x360 with 1 Axes>"
      ]
     },
     "metadata": {
      "needs_background": "light"
     },
     "output_type": "display_data"
    }
   ],
   "source": [
    "plt.figure(figsize=(10,5))\n",
    "plt.bar(range(len(var_exp)),var_exp,alpha=0.333,align='center',label='Indiviual explained variance',color='g')\n",
    "plt.step(range(len(c_var_exp)),c_var_exp,where='mid',label='Cumulativeexplained Variable')"
   ]
  },
  {
   "cell_type": "code",
   "execution_count": null,
   "id": "fc2491f4",
   "metadata": {},
   "outputs": [],
   "source": []
  }
 ],
 "metadata": {
  "kernelspec": {
   "display_name": "Python 3",
   "language": "python",
   "name": "python3"
  },
  "language_info": {
   "codemirror_mode": {
    "name": "ipython",
    "version": 3
   },
   "file_extension": ".py",
   "mimetype": "text/x-python",
   "name": "python",
   "nbconvert_exporter": "python",
   "pygments_lexer": "ipython3",
   "version": "3.8.8"
  }
 },
 "nbformat": 4,
 "nbformat_minor": 5
}
